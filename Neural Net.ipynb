{
 "cells": [
  {
   "cell_type": "code",
   "execution_count": 1,
   "metadata": {
    "collapsed": true
   },
   "outputs": [],
   "source": [
    "from IPython.display import Latex"
   ]
  },
  {
   "cell_type": "markdown",
   "metadata": {},
   "source": [
    "## 神经网络\n",
    "\n",
    "### 基本概念\n",
    "\n",
    "神经元的激活函数往往选择$sigmoid:\\sigma(x)=\\frac{1}{1+e^{-x}}$或者$tanh$。如：\n",
    "\n",
    "$$y=sigmoid(w^{T}\\cdot x)=\\frac{1}{1+e^{-w^{T}\\cdot x}}$$\n",
    "\n",
    "$sigmoid$是一个（0，1）的非线性函数。导数为：$\\sigma^{'}(x)=\\sigma(x)(1-\\sigma(x))$\n",
    "\n",
    "神经网络就是一个输入向量$x$到输出向量$y$的函数。$y = f_{network}(x)$\n",
    "\n",
    "对于隐含层：$a = f(w\\cdot x)$\n",
    "\n",
    ">$f$是激活函数，本例是sigmoid函数；w是权重矩阵；x是某层的输入向量；a是某层的输出向量；\n",
    "\n",
    "式子说明量神经网络的每一层的作用实际就是先将输入向量左乘一个权重矩阵，得到一个新向量，再把新向量用到一个激活函数中。\n",
    "\n",
    "例如有四层神经网络，那每一层的输出可以表示如下：\n",
    "$$a_1 = f(w_1\\cdot x)$$\n",
    "$$a_2 = f(w_2\\cdot a_1)$$\n",
    "$$a_3 = f(w_3\\cdot a_2)$$\n",
    "$$y = f(w_4\\cdot a_3)$$\n",
    "\n",
    "### 神经网络的训练\n",
    "\n",
    ">人为设定的参数称为超参数（Hyper-Parameters）\n",
    "\n",
    "#### 反向传播算法（Back Propagation）\n",
    "\n",
    "* 对于输出层节点$i$,\n",
    "$$\\delta_i = y_{i}(1-y_{i})(t_{i}-y_{i})$$\n",
    "\n",
    ">其中，$\\delta_i$是节点$i$的误差项；$y_i$是节点$i$的输出值；$t_i$是样本对应于节点$i$的目标值。\n",
    "\n",
    "* 对于隐含层节点$i$，\n",
    "$$\\delta_i = a_{i}(1-a_{i})\\sum_{k\\in{outputs}}w_{ki}\\delta_k$$\n",
    "\n",
    ">其中，$a_{i}$是节点i的输出值，$w_{ki}$是节点i到它下一层节点k连接的权重，$\\delta_k$是节点i下一层节点k的误差项\n",
    "\n",
    "* 更新每个连接上的权值：\n",
    "$$w_{ji}\\leftarrow w_{ji}+\\eta \\delta_{j}x_{ji}$$\n",
    "\n",
    ">其中，$w_{ji}$是节点i到节点j的权重，$\\eta$是学习速率，$\\delta_j$是节点j的误差项，$x_ji$是节点i传递给节点j的输入。"
   ]
  }
 ],
 "metadata": {
  "kernelspec": {
   "display_name": "Python [conda env:tensorflow]",
   "language": "python",
   "name": "conda-env-tensorflow-py"
  },
  "language_info": {
   "codemirror_mode": {
    "name": "ipython",
    "version": 2
   },
   "file_extension": ".py",
   "mimetype": "text/x-python",
   "name": "python",
   "nbconvert_exporter": "python",
   "pygments_lexer": "ipython2",
   "version": "2.7.12"
  }
 },
 "nbformat": 4,
 "nbformat_minor": 1
}
