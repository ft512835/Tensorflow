{
 "cells": [
  {
   "cell_type": "code",
   "execution_count": 3,
   "metadata": {
    "collapsed": false
   },
   "outputs": [],
   "source": [
    "from IPython.display import Latex\n"
   ]
  },
  {
   "cell_type": "markdown",
   "metadata": {},
   "source": [
    "## 感知机（Perceptron）\n",
    "\n",
    "### 感知机组成\n",
    "\n",
    "* **输入权值** 一个感知机可以接受多个输入${x_1,x_2,...,x_n}$，每个输入有一个权值$w_i$，一个偏置项$b$\n",
    "* **激活函数** 激活函数有多种选择，比如这里选择阶跃函数 $f$: \n",
    "\n",
    "\\begin{equation}  \n",
    "f(x)=\\left\\{  \n",
    "             \\begin{array}{lr}  \n",
    "             1, & x>0 &  \\\\  \n",
    "             0, & otherwise.\\\\      \n",
    "             \\end{array}  \n",
    "\\right.  \n",
    "\\end{equation}\n",
    "\n",
    "* **输出** 感知机的输出来自如下公式：$$y = f(w\\cdot x+b)$$\n",
    "\n",
    "### 感知机训练\n",
    "\n",
    "将权重项和偏置项初始化为0，然后利用下面的感知机规则迭代修改$w_i$和$b$，知道训练完成。\n",
    "$$w_i \\leftarrow w_i+ \\triangle w_i $$\n",
    "$$b \\leftarrow b+ \\triangle b $$\n",
    "其中\n",
    "$$\\triangle w_i = \\eta(t-y)x_i  $$\n",
    "$$\\triangle b = \\eta(t-y) $$\n",
    ">$w_i$是与x_i对应的权重项，b是偏置项，y是输出，t是训练样本的实际值（也称label），$\\eta$是学习速率。"
   ]
  },
  {
   "cell_type": "code",
   "execution_count": 5,
   "metadata": {
    "collapsed": true
   },
   "outputs": [],
   "source": [
    "class Perceptron(object):\n",
    "    def __init__(self, input_num, activator):\n",
    "        '''\n",
    "        初始化感知器，设置输入参数的个数，以及激活函数。\n",
    "        激活函数的类型为double -> double\n",
    "        '''\n",
    "        self.activator = activator\n",
    "        # 权重向量初始化为0\n",
    "        self.weights = [0.0 for _ in range(input_num)]\n",
    "        # 偏置项初始化为0\n",
    "        self.bias = 0.0\n",
    "    def __str__(self):\n",
    "        '''\n",
    "        打印学习到的权重、偏置项\n",
    "        '''\n",
    "        return 'weights\\t:%s\\nbias\\t:%f\\n' % (self.weights, self.bias)\n",
    "    def predict(self, input_vec):\n",
    "        '''\n",
    "        输入向量，输出感知器的计算结果\n",
    "        '''\n",
    "        # 把input_vec[x1,x2,x3...]和weights[w1,w2,w3,...]打包在一起\n",
    "        # 变成[(x1,w1),(x2,w2),(x3,w3),...]\n",
    "        # 然后利用map函数计算[x1*w1, x2*w2, x3*w3]\n",
    "        # 最后利用reduce求和\n",
    "        return self.activator(\n",
    "            reduce(lambda a, b: a + b,\n",
    "                   map(lambda (x, w): x * w,  \n",
    "                       zip(input_vec, self.weights))\n",
    "                , 0.0) + self.bias)\n",
    "    def train(self, input_vecs, labels, iteration, rate):\n",
    "        '''\n",
    "        输入训练数据：一组向量、与每个向量对应的label；以及训练轮数、学习率\n",
    "        '''\n",
    "        for i in range(iteration):\n",
    "            self._one_iteration(input_vecs, labels, rate)\n",
    "    def _one_iteration(self, input_vecs, labels, rate):\n",
    "        '''\n",
    "        一次迭代，把所有的训练数据过一遍\n",
    "        '''\n",
    "        # 把输入和输出打包在一起，成为样本的列表[(input_vec, label), ...]\n",
    "        # 而每个训练样本是(input_vec, label)\n",
    "        samples = zip(input_vecs, labels)\n",
    "        # 对每个样本，按照感知器规则更新权重\n",
    "        for (input_vec, label) in samples:\n",
    "            # 计算感知器在当前权重下的输出\n",
    "            output = self.predict(input_vec)\n",
    "            # 更新权重\n",
    "            self._update_weights(input_vec, output, label, rate)\n",
    "    def _update_weights(self, input_vec, output, label, rate):\n",
    "        '''\n",
    "        按照感知器规则更新权重\n",
    "        '''\n",
    "        # 把input_vec[x1,x2,x3,...]和weights[w1,w2,w3,...]打包在一起\n",
    "        # 变成[(x1,w1),(x2,w2),(x3,w3),...]\n",
    "        # 然后利用感知器规则更新权重\n",
    "        delta = label - output\n",
    "        self.weights = map(\n",
    "            lambda (x, w): w + rate * delta * x,\n",
    "            zip(input_vec, self.weights))\n",
    "        # 更新bias\n",
    "        self.bias += rate * delta"
   ]
  },
  {
   "cell_type": "code",
   "execution_count": 8,
   "metadata": {
    "collapsed": false
   },
   "outputs": [
    {
     "name": "stdout",
     "output_type": "stream",
     "text": [
      "weights\t:[0.1, 0.2]\n",
      "bias\t:-0.200000\n",
      "\n",
      "1 and 1 = 1\n",
      "0 and 0 = 0\n",
      "1 and 0 = 0\n",
      "0 and 1 = 0\n"
     ]
    }
   ],
   "source": [
    "def f(x):\n",
    "    '''\n",
    "    定义激活函数f\n",
    "    '''\n",
    "    return 1 if x > 0 else 0\n",
    "def get_training_dataset():\n",
    "    '''\n",
    "    基于and真值表构建训练数据\n",
    "    '''\n",
    "    # 构建训练数据\n",
    "    # 输入向量列表\n",
    "    input_vecs = [[1,1], [0,0], [1,0], [0,1]]\n",
    "    # 期望的输出列表，注意要与输入一一对应\n",
    "    # [1,1] -> 1, [0,0] -> 0, [1,0] -> 0, [0,1] -> 0\n",
    "    labels = [1, 0, 0, 0]\n",
    "    return input_vecs, labels    \n",
    "def train_and_perceptron():\n",
    "    '''\n",
    "    使用and真值表训练感知器\n",
    "    '''\n",
    "    # 创建感知器，输入参数个数为2（因为and是二元函数），激活函数为f\n",
    "    p = Perceptron(2, f)\n",
    "    # 训练，迭代10轮, 学习速率为0.1\n",
    "    input_vecs, labels = get_training_dataset()\n",
    "    p.train(input_vecs, labels, 10, 0.1)\n",
    "    #返回训练好的感知器\n",
    "    return p\n",
    "if __name__ == '__main__': \n",
    "    # 训练and感知器\n",
    "    and_perception = train_and_perceptron()\n",
    "    # 打印训练获得的权重\n",
    "    print and_perception\n",
    "    # 测试\n",
    "    print '1 and 1 = %d' % and_perception.predict([1, 1])\n",
    "    print '0 and 0 = %d' % and_perception.predict([0, 0])\n",
    "    print '1 and 0 = %d' % and_perception.predict([1, 0])\n",
    "    print '0 and 1 = %d' % and_perception.predict([0, 1])"
   ]
  }
 ],
 "metadata": {
  "anaconda-cloud": {},
  "kernelspec": {
   "display_name": "Python [conda env:tensorflow]",
   "language": "python",
   "name": "conda-env-tensorflow-py"
  },
  "language_info": {
   "codemirror_mode": {
    "name": "ipython",
    "version": 2
   },
   "file_extension": ".py",
   "mimetype": "text/x-python",
   "name": "python",
   "nbconvert_exporter": "python",
   "pygments_lexer": "ipython2",
   "version": "2.7.12"
  }
 },
 "nbformat": 4,
 "nbformat_minor": 1
}
